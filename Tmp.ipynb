{
 "cells": [
  {
   "cell_type": "code",
   "execution_count": 1,
   "id": "4ef85abe",
   "metadata": {},
   "outputs": [
    {
     "name": "stderr",
     "output_type": "stream",
     "text": [
      "/opt/conda/lib/python3.8/site-packages/tqdm/auto.py:22: TqdmWarning: IProgress not found. Please update jupyter and ipywidgets. See https://ipywidgets.readthedocs.io/en/stable/user_install.html\n",
      "  from .autonotebook import tqdm as notebook_tqdm\n"
     ]
    }
   ],
   "source": [
    "#Automated reloading of custom modules\n",
    "%load_ext autoreload\n",
    "%autoreload 2\n",
    "\n",
    "#Standard modules\n",
    "import os\n",
    "import time\n",
    "import random\n",
    "\n",
    "import numpy as np\n",
    "import scipy\n",
    "\n",
    "import torch\n",
    "import torch.nn as nn\n",
    "import torch.nn.functional as F\n",
    "import matplotlib.pyplot as plt\n",
    "from datetime import datetime\n",
    "\n",
    "#Custom modules\n",
    "import helpers as hlp\n",
    "import models as mdl"
   ]
  },
  {
   "cell_type": "code",
   "execution_count": 5,
   "id": "b9b66a8d",
   "metadata": {},
   "outputs": [],
   "source": [
    "m = mdl.LeNet5(1, 100, 10)\n",
    "\n",
    "class Dummy():\n",
    "    def __init__(self, m):\n",
    "        self.m = m\n",
    "    \n",
    "    def check(self):\n",
    "        print(m.training)\n",
    "        "
   ]
  },
  {
   "cell_type": "code",
   "execution_count": 9,
   "id": "a0538b74",
   "metadata": {},
   "outputs": [
    {
     "name": "stdout",
     "output_type": "stream",
     "text": [
      "True\n",
      "True\n",
      "False\n",
      "False\n"
     ]
    }
   ],
   "source": [
    "m = mdl.LeNet5(1, 100, 10)\n",
    "d = Dummy(m)\n",
    "print(m.training)\n",
    "d.check()\n",
    "m.eval()\n",
    "print(m.training)\n",
    "d.check()"
   ]
  },
  {
   "cell_type": "code",
   "execution_count": null,
   "id": "4dee4df2",
   "metadata": {},
   "outputs": [],
   "source": []
  }
 ],
 "metadata": {
  "kernelspec": {
   "display_name": "Python 3",
   "language": "python",
   "name": "python3"
  },
  "language_info": {
   "codemirror_mode": {
    "name": "ipython",
    "version": 3
   },
   "file_extension": ".py",
   "mimetype": "text/x-python",
   "name": "python",
   "nbconvert_exporter": "python",
   "pygments_lexer": "ipython3",
   "version": "3.8.8"
  }
 },
 "nbformat": 4,
 "nbformat_minor": 5
}
