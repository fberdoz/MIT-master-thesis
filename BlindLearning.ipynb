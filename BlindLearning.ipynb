{
 "cells": [
  {
   "cell_type": "code",
   "execution_count": 1,
   "id": "bb6f569f-7c77-46d2-b8aa-7473e5dca03c",
   "metadata": {
    "tags": [
     "Magic"
    ]
   },
   "outputs": [],
   "source": [
    "#Automated reloading of custom modules\n",
    "%load_ext autoreload\n",
    "%autoreload 2"
   ]
  },
  {
   "cell_type": "code",
   "execution_count": 2,
   "id": "12dcc799-e34f-4d80-8229-f610c3dec44b",
   "metadata": {},
   "outputs": [
    {
     "name": "stdout",
     "output_type": "stream",
     "text": [
      "Used device: cpu.\n"
     ]
    }
   ],
   "source": [
    "#Standard modules\n",
    "import os\n",
    "import numpy as np\n",
    "import scipy\n",
    "import torch\n",
    "import torch.nn as nn\n",
    "from torch.utils.data import random_split, DataLoader, Dataset\n",
    "import matplotlib.pyplot as plt\n",
    "from datetime import datetime\n",
    "\n",
    "#Custom modules\n",
    "import helpers as hlp\n",
    "import models as mdl\n",
    "\n",
    "# Check avaibale device\n",
    "DEVICE = torch.device(\"cuda\" if torch.cuda.is_available() else \"cpu\")\n",
    "print(\"Used device: {}.\".format(DEVICE))"
   ]
  },
  {
   "cell_type": "markdown",
   "id": "a0759744-71e4-4665-97aa-85f3ac8154e7",
   "metadata": {},
   "source": [
    "### Reproductability"
   ]
  },
  {
   "cell_type": "code",
   "execution_count": 3,
   "id": "7c46e091-861a-4934-96e7-b0346895de5c",
   "metadata": {},
   "outputs": [],
   "source": [
    "SEED = 12345\n",
    "torch.manual_seed(SEED)\n",
    "np.random.seed(SEED)"
   ]
  },
  {
   "cell_type": "markdown",
   "id": "6c065577-2756-4eb7-91bc-0b66e1e023d9",
   "metadata": {},
   "source": [
    "### Parameters"
   ]
  },
  {
   "cell_type": "code",
   "execution_count": 4,
   "id": "f5a84ed2-12dc-4025-b716-2710b334a53e",
   "metadata": {},
   "outputs": [],
   "source": [
    "#Dataset\n",
    "DATASET = \"MNIST\" \n",
    "MODEL = \"resnet18\" # 'fc', 'resnet18'\n",
    "REDUCED = True\n",
    "FLATTEN = True if MODEL == \"fc\" else False\n",
    "\n",
    "#Collaborative learning\n",
    "N_CLIENTS = 4\n",
    "SIZES = None # None for uniform sizes or array of length N_CLIENTS\n",
    "ALPHA = \"uniform\" #'uniform', 'disjoint' or postive.\n",
    "TOPOLOGY = [[0, 1, 0, 0], #Tij = 1 means i uses Xj and Yj for the KD\n",
    "            [0, 0, 1, 0],\n",
    "            [0, 0, 0, 1],\n",
    "            [1, 0, 0, 0]]\n",
    "\n",
    "#Learning\n",
    "BATCH_SIZE = 16\n",
    "BATCH_SIZE_KD = 16\n",
    "ROUNDS = 5\n",
    "EPOCHS_PER_ROUND = 1\n",
    "EPOCHS_PER_ROUND_KD = 10\n",
    "RANDOM_SAMPLES = 1000\n",
    "CRITERION = nn.CrossEntropyLoss()\n",
    "CRITERION_KD = nn.MSELoss() #loss for knowledge diffusion\n",
    "\n",
    "#Directories\n",
    "DATE = datetime.now()\n",
    "EXPORT_DIR = \"./saves/\" + DATE.strftime(\"%d-%m-%Y/%H-%M-%S\")\n",
    "os.makedirs(EXPORT_DIR, exist_ok=True)\n",
    "\n",
    "# Store parameters\n",
    "with open(EXPORT_DIR + \"/metadata.txt\", 'w') as f:\n",
    "    f.write(\"Parameter of the experiment conducted the {} at {}.\\n\\n\".format(DATE.strftime(\"%d/%m/%Y\"),\n",
    "                                                                         DATE.strftime(\"%H:%m:%Y\")))\n",
    "    f.write(\"Model architecture:       {}\\n\".format(MODEL))\n",
    "    f.write(\"Dataset:                  {}\\n\".format(DATASET))\n",
    "    f.write(\"Number of clients:        {}\\n\".format(N_CLIENTS))\n",
    "    f.write(\"Dataset sizes:            {}\\n\".format(\"uniform\" if SIZES is None else SIZES))\n",
    "    f.write(\"Concentration (alpha):    {}\\n\".format(ALPHA))\n",
    "    f.write(\"Topology:                 {}\\n\".format(TOPOLOGY))\n",
    "    f.write(\"Batch size:               {}\\n\".format(BATCH_SIZE))\n",
    "    f.write(\"Batch size (KD):          {}\\n\".format(BATCH_SIZE_KD))\n",
    "    f.write(\"Rounds:                   {}\\n\".format(ROUNDS))\n",
    "    f.write(\"Epoch per round:          {}\\n\".format(EPOCHS_PER_ROUND))\n",
    "    f.write(\"Epoch per round (KD):     {}\\n\".format(EPOCHS_PER_ROUND_KD))\n",
    "    f.write(\"Number of random samples: {}\\n\".format(RANDOM_SAMPLES))"
   ]
  },
  {
   "cell_type": "markdown",
   "id": "35929b63-82e2-4ebf-9b28-91dc6b774b17",
   "metadata": {},
   "source": [
    "### Data loadiing"
   ]
  },
  {
   "cell_type": "code",
   "execution_count": 5,
   "id": "510a84e9-2164-4191-8a2e-c9b71443536f",
   "metadata": {},
   "outputs": [
    {
     "name": "stdout",
     "output_type": "stream",
     "text": [
      "** Using MNIST **\n",
      "Load train data...\n",
      "Load validation data...\n",
      "Dataset sizes:\n",
      "\t- Train: (500, 1, 28, 28)\n",
      "\t- Valitation (100, 1, 28, 28)\n"
     ]
    },
    {
     "data": {
      "image/png": "[encoded data removed]",
      "text/plain": [
       "<Figure size 360x360 with 1 Axes>"
      ]
     },
     "metadata": {
      "needs_background": "light"
     },
     "output_type": "display_data"
    }
   ],
   "source": [
    "# Load dataset\n",
    "train_input, train_target, val_input, val_target, meta = hlp.load_data(dataset=DATASET,\n",
    "                                                                       reduced=REDUCED, \n",
    "                                                                       flatten=FLATTEN,\n",
    "                                                                       device=DEVICE)\n",
    "\n",
    "#Create custom torch datasets\n",
    "train_ds = hlp.ImageDataset(train_input, train_target)\n",
    "val_ds = hlp.ImageDataset(val_input, val_target)\n",
    "\n",
    "#Split dataset\n",
    "#train_ds_list = hlp.split_dataset_randomly(train_ds, SIZES)\n",
    "#val_ds_list = hlp.split_dataset_randomly(val_ds, SIZES)\n",
    "train_ds_list, val_ds_list = hlp.split_dataset(N_CLIENTS, train_ds, val_ds, ALPHA, SIZES)\n",
    "\n",
    "#Create dataloader\n",
    "train_dl_list = hlp.ds_to_dl(train_ds_list, batch_size=BATCH_SIZE)\n",
    "val_dl_list = hlp.ds_to_dl(val_ds_list)\n",
    "\n",
    "\n",
    "#Visualize partition\n",
    "hlp.visualize_class_dist(train_ds_list, meta[\"n_class\"], title=\"Class distribution\")\n",
    "#hlp.visualize_class_dist(val_ds_list, N_CLASS, title=\"Validation datasets\")"
   ]
  },
  {
   "cell_type": "markdown",
   "id": "162d99da-9a28-45f8-bf9a-08ebc8548ae7",
   "metadata": {},
   "source": [
    "### Model initialization"
   ]
  },
  {
   "cell_type": "code",
   "execution_count": 6,
   "id": "88ce8586-9353-4939-a8ce-0956c0a50b46",
   "metadata": {},
   "outputs": [],
   "source": [
    "# Model initialization\n",
    "if MODEL == \"fc\":\n",
    "    client_models = [mdl.FC_Net(meta[\"in_dimension\"][0], meta[\"n_class\"]).to(DEVICE) for _ in range(N_CLIENTS)]\n",
    "    client_models_kd = [mdl.FC_Net(meta[\"in_dimension\"][0], meta[\"n_class\"]).to(DEVICE) for _ in range(N_CLIENTS)]\n",
    "\n",
    "elif MODEL == \"resnet18\":\n",
    "    client_models = [mdl.ResNet18(meta[\"in_dimension\"][0], meta[\"n_class\"]).to(DEVICE) for _ in range(N_CLIENTS)]\n",
    "    client_models_kd = [mdl.ResNet18(meta[\"in_dimension\"][0], meta[\"n_class\"]).to(DEVICE) for _ in range(N_CLIENTS)]\n",
    "\n",
    "# Performance tracker\n",
    "perf_trackers = [hlp.PerfTracker(client_models[i], train_dl_list[i], val_dl_list[i], \n",
    "                                 CRITERION, meta[\"n_class\"], \n",
    "                                 EXPORT_DIR + \"/client_{}\".format(i)) for i in range(N_CLIENTS)]\n",
    "perf_trackers_kd = [hlp.PerfTracker(client_models_kd[i], train_dl_list[i], val_dl_list[i], \n",
    "                                    CRITERION, meta[\"n_class\"], \n",
    "                                    EXPORT_DIR + \"/client_{}_KD\".format(i)) for i in range(N_CLIENTS)]"
   ]
  },
  {
   "cell_type": "code",
   "execution_count": 7,
   "id": "4fea23b9-20a5-44c3-a1dd-035eb056c070",
   "metadata": {},
   "outputs": [
    {
     "name": "stdout",
     "output_type": "stream",
     "text": [
      "Data on cuda: False\n",
      "Model on cuda: False\n"
     ]
    }
   ],
   "source": [
    "print(\"Data on cuda:\", train_ds.targets.is_cuda)\n",
    "print(\"Model on cuda:\", next(client_models[0].parameters()).is_cuda)"
   ]
  },
  {
   "cell_type": "markdown",
   "id": "618198b5-a1e7-44cc-99b4-7bba77aaad8a",
   "metadata": {},
   "source": [
    "### Traditional (spearated) learning"
   ]
  },
  {
   "cell_type": "code",
   "execution_count": 8,
   "id": "7d5a22e4-16fc-49be-858e-3845ed5df6a5",
   "metadata": {},
   "outputs": [
    {
     "name": "stdout",
     "output_type": "stream",
     "text": [
      "Client 0: epoch 5/5 done.   \n",
      "Client 1: epoch 5/5 done.   \n",
      "Client 2: epoch 5/5 done.   \n",
      "Client 3: epoch 5/5 done.   \n"
     ]
    },
    {
     "data": {
      "image/png": "[encoded data removed]",
      "text/plain": [
       "<Figure size 432x288 with 1 Axes>"
      ]
     },
     "metadata": {
      "needs_background": "light"
     },
     "output_type": "display_data"
    },
    {
     "data": {
      "image/png": "[encoded data removed]",
      "text/plain": [
       "<Figure size 432x288 with 1 Axes>"
      ]
     },
     "metadata": {
      "needs_background": "light"
     },
     "output_type": "display_data"
    }
   ],
   "source": [
    "#Each client updates its model locally on its own dataset (Standard)\n",
    "for client_id in range(N_CLIENTS):\n",
    "    #Setting up the local training\n",
    "    model = client_models[client_id]\n",
    "    optimizer = torch.optim.Adam(model.parameters())\n",
    "    model.train()\n",
    "\n",
    "    #Local update\n",
    "    for e in range(ROUNDS*EPOCHS_PER_ROUND):\n",
    "        for features, target in train_dl_list[client_id]:\n",
    "            optimizer.zero_grad()\n",
    "            output = model(features)\n",
    "            loss = CRITERION(output, target)\n",
    "            loss.backward()\n",
    "            optimizer.step()\n",
    "        \n",
    "        #Tracking performance\n",
    "        perf_trackers[client_id].new_eval()\n",
    "        print(\"\\rClient {}: epoch {}/{} done.\".format(client_id, e+1, ROUNDS*EPOCHS_PER_ROUND), end=\"  \")\n",
    "    print(\" \")\n",
    "    \n",
    "# Visualization of training history\n",
    "user = 0\n",
    "perf_trackers[user].plot_training_history(metric=\"accuracy\")\n",
    "perf_trackers[user].plot_training_history(metric=\"loss\")"
   ]
  },
  {
   "cell_type": "markdown",
   "id": "17426e3c-42bf-4908-bab5-7a7e645bf73f",
   "metadata": {},
   "source": [
    "### Learning with random KD"
   ]
  },
  {
   "cell_type": "code",
   "execution_count": null,
   "id": "2eb38c6d-e443-4aa9-a326-8f6d661b870f",
   "metadata": {
    "tags": []
   },
   "outputs": [
    {
     "name": "stdout",
     "output_type": "stream",
     "text": [
      "ok\n"
     ]
    }
   ],
   "source": [
    "#Training phase\n",
    "for r in range(ROUNDS):\n",
    "\n",
    "    #Each client updates its model locally on its own dataset\n",
    "    for client_id in range(N_CLIENTS):\n",
    "        \n",
    "        #Setting up the local training\n",
    "        model = client_models_kd[client_id]\n",
    "        optimizer = torch.optim.Adam(model.parameters())\n",
    "        model.train()\n",
    "        \n",
    "        #Local update\n",
    "        for e in range(EPOCHS_PER_ROUND):\n",
    "            for features, target in train_dl_list[client_id]:\n",
    "                optimizer.zero_grad()\n",
    "                output = model(features)\n",
    "                loss = CRITERION(output, target)\n",
    "                loss.backward()\n",
    "                optimizer.step()\n",
    "    \n",
    "    # Blind learning (creation of input/output pairs)\n",
    "    features_rand = torch.normal(0, 1, size=(N_CLIENTS, RANDOM_SAMPLES, *meta[\"in_dimension\"]))\n",
    "    output_rand = torch.empty(N_CLIENTS, RANDOM_SAMPLES, meta[\"n_class\"])\n",
    "    for client_id in range(N_CLIENTS):\n",
    "        model = client_models_kd[client_id]\n",
    "        model.eval()\n",
    "        with torch.no_grad():\n",
    "            output_rand[client_id] = model(features_rand[client_id])\n",
    "    \n",
    "    ds_kd_list = [hlp.ImageDataset(features_rand[i], output_rand[i]) for i in range(N_CLIENTS)]\n",
    "    dl_kd_list = [hlp.ds_to_dl(ds, batch_size=BATCH_SIZE_KD) for ds in ds_kd_list]\n",
    "    \n",
    "    # Blind learning (knowledge diffusion)\n",
    "    for client_id in range(N_CLIENTS):\n",
    "        model = client_models_kd[client_id]\n",
    "        optimizer = torch.optim.Adam(model.parameters())\n",
    "        #model.train() #Should this be? maybe the dropout hinders the effect of KD\n",
    "        \n",
    "        for peer_id, isConsidered in enumerate(TOPOLOGY[client_id]):\n",
    "            if isConsidered:\n",
    "                for e in range(EPOCHS_PER_ROUND_KD):\n",
    "                    for x_kd, y_kd in dl_kd_list[peer_id]:\n",
    "                        optimizer.zero_grad()\n",
    "                        y_kd_pers = model(x_kd)\n",
    "                        loss = CRITERION_KD(y_kd_pers, y_kd)\n",
    "                        loss.backward()\n",
    "                        optimizer.step()\n",
    "        #Tracking performance\n",
    "        perf_trackers_kd[client_id].new_eval()\n",
    "\n",
    "    print(\"\\rRound {}/{} done.\".format(r+1, ROUNDS), end=\"  \")\n",
    "# Visualization of training history\n",
    "user = 0\n",
    "perf_trackers_kd[user].plot_training_history(metric=\"accuracy\")\n",
    "perf_trackers_kd[user].plot_training_history(metric=\"loss\")"
   ]
  },
  {
   "cell_type": "markdown",
   "id": "c8872253-0bd2-47f4-95a6-b19d8c166745",
   "metadata": {},
   "source": [
    "### Comparison"
   ]
  },
  {
   "cell_type": "code",
   "execution_count": null,
   "id": "4bef5d21-1f01-425c-97ec-9f97279d16b6",
   "metadata": {},
   "outputs": [],
   "source": [
    "for i in range(N_CLIENTS):\n",
    "    fig, axs = plt.subplots(1, 2, figsize=(8, 4))\n",
    "    pt = perf_trackers[i]\n",
    "    pt_kd = perf_trackers_kd[i]\n",
    "    axs[0].plot(pt.index, pt.perf_history_tr[\"loss\"], label=\"Train\")\n",
    "    axs[0].plot(pt.index, pt.perf_history_val[\"loss\"], label=\"Validation\")\n",
    "    axs[0].plot(pt_kd.index, pt_kd.perf_history_tr[\"loss\"], label=\"Train (KD)\")\n",
    "    axs[0].plot(pt_kd.index, pt_kd.perf_history_val[\"loss\"],label=\"Validation (KD)\")\n",
    "    axs[0].set_title(\"Client {} (loss)\".format(i))\n",
    "    axs[0].legend()\n",
    "    \n",
    "    \n",
    "    axs[1].plot(pt.index, np.trace(pt.perf_history_tr[\"confusion matrix\"], axis1=1, axis2=2) / np.sum(pt.perf_history_tr[\"confusion matrix\"], axis=(1,2)), label=\"Train\")\n",
    "    axs[1].plot(pt.index, np.trace(pt.perf_history_val[\"confusion matrix\"], axis1=1, axis2=2) / np.sum(pt.perf_history_val[\"confusion matrix\"], axis=(1,2)), label=\"Validation\")\n",
    "    axs[1].plot(pt_kd.index, np.trace(pt_kd.perf_history_tr[\"confusion matrix\"], axis1=1, axis2=2) / np.sum(pt_kd.perf_history_tr[\"confusion matrix\"], axis=(1,2)), label=\"Train (KD)\")\n",
    "    axs[1].plot(pt_kd.index, np.trace(pt_kd.perf_history_val[\"confusion matrix\"], axis1=1, axis2=2) / np.sum(pt_kd.perf_history_val[\"confusion matrix\"], axis=(1,2)), label=\"Validation (KD)\")\n",
    "    axs[1].set_title(\"Client {} (accuracy)\".format(i))\n",
    "    axs[1].legend()\n",
    "    \n",
    "    fig.savefig(EXPORT_DIR + \"/train_history.png\", bbox_inches='tight')"
   ]
  },
  {
   "cell_type": "markdown",
   "id": "a5cfe8f9-647f-4c3f-8954-e59bad6a0ece",
   "metadata": {},
   "source": [
    "Check for the following\n",
    "- model complexity\n",
    "- check if performance improve by doing kd on all activation\n",
    "- federated learing\n",
    "- server with no data\n",
    "\n",
    "topology\n",
    "computation\n",
    "security \n",
    "    learning theroy proble + sample complexity bounds\n",
    "    show information leakage for every round\n",
    "\n",
    "Non-iid conergence\n"
   ]
  },
  {
   "cell_type": "markdown",
   "id": "8a787a3b-c2df-4a92-9295-6536d253af37",
   "metadata": {},
   "source": [
    "### Convert to executable"
   ]
  },
  {
   "cell_type": "code",
   "execution_count": 2,
   "id": "a6a81182-ef3b-4561-b85e-5ee058749361",
   "metadata": {
    "tags": [
     "Magic"
    ]
   },
   "outputs": [
    {
     "name": "stdout",
     "output_type": "stream",
     "text": [
      "[NbConvertApp] Converting notebook BlindLearning.ipynb to python\n",
      "[NbConvertApp] Writing 9284 bytes to BlindLearning.py\n"
     ]
    }
   ],
   "source": [
    "# Convert to executable (without the Magic cells\n",
    "!jupyter nbconvert \\\n",
    "    --TagRemovePreprocessor.enabled=True \\\n",
    "    --TagRemovePreprocessor.remove_cell_tags 'Magic' \\\n",
    "    --TemplateExporter.exclude_markdown=True \\\n",
    "    --to python \"BlindLearning.ipynb\"\n"
   ]
  },
  {
   "cell_type": "code",
   "execution_count": null,
   "id": "6e15198f-e1cb-4d73-8ee7-4fe7b4c7199d",
   "metadata": {},
   "outputs": [],
   "source": []
  }
 ],
 "metadata": {
  "kernelspec": {
   "display_name": "Python 3 (ipykernel)",
   "language": "python",
   "name": "python3"
  },
  "language_info": {
   "codemirror_mode": {
    "name": "ipython",
    "version": 3
   },
   "file_extension": ".py",
   "mimetype": "text/x-python",
   "name": "python",
   "nbconvert_exporter": "python",
   "pygments_lexer": "ipython3",
   "version": "3.8.12"
  },
  "toc-autonumbering": false,
  "toc-showcode": false,
  "toc-showmarkdowntxt": false,
  "toc-showtags": false
 },
 "nbformat": 4,
 "nbformat_minor": 5
}
